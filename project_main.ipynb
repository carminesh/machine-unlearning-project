{
 "cells": [
  {
   "cell_type": "code",
   "execution_count": 1,
   "metadata": {},
   "outputs": [],
   "source": [
    "# This disables SSL certificate verification for the current session which enable us\n",
    "# to download the MNIST dataset without any problem.\n",
    "import ssl\n",
    "ssl._create_default_https_context = ssl._create_unverified_context"
   ]
  },
  {
   "cell_type": "markdown",
   "metadata": {},
   "source": []
  },
  {
   "cell_type": "code",
   "execution_count": 2,
   "metadata": {},
   "outputs": [],
   "source": [
    "# Import dependencies\n",
    "import torch\n",
    "import torch.nn as nn\n",
    "import torch.optim as optim\n",
    "import torch.nn.functional as F\n",
    "from torchvision.datasets import MNIST\n",
    "from torchvision import transforms\n",
    "from torch.utils.data import DataLoader, Subset\n",
    "\n",
    "# Import of custom functions\n",
    "from specific_sample_unlearning import selective_train_unlearning\n",
    "from plot_generator import plot_accuracy, plot_loss, plot_confusion_matrix, plot_pca\n",
    "from utils import adjust_class_representation, check_class_distribution"
   ]
  },
  {
   "cell_type": "code",
   "execution_count": 3,
   "metadata": {},
   "outputs": [],
   "source": [
    "# Load the MNIST dataset\n",
    "transform = transforms.Compose([\n",
    "    transforms.ToTensor(),\n",
    "    transforms.Normalize((0.1307,), (0.3081,))\n",
    "])\n",
    "\n",
    "train_dataset = MNIST('./data', train=True, download=True, transform=transform)\n",
    "test_dataset = MNIST('./data', train=False, transform=transform)\n",
    "\n",
    "# Prepare data loaders\n",
    "train_loader = DataLoader(train_dataset, batch_size=64, shuffle=True)\n",
    "test_loader = DataLoader(test_dataset, batch_size=1000, shuffle=False)"
   ]
  },
  {
   "cell_type": "markdown",
   "metadata": {},
   "source": [
    "Create Imabalanced dataset with the overrepresentation of the class 6"
   ]
  },
  {
   "cell_type": "code",
   "execution_count": null,
   "metadata": {},
   "outputs": [],
   "source": [
    "#If i > 1, it performs overrepresentation. If 0 < i < 1, it performs underrepresentation\n",
    "adjusted_train_dataset = adjust_class_representation(train_dataset, class_to_adjust=6, i=2, reduce_to=100, duplication_factor=10)\n",
    "\n",
    "# Check the class distribution in the underrepresented dataset\n",
    "check_class_distribution(adjusted_train_dataset)\n",
    "\n",
    "# Create a dataloader from the adjusted dataset\n",
    "train_loader = DataLoader(adjusted_train_dataset, batch_size=64, shuffle=True)"
   ]
  },
  {
   "cell_type": "code",
   "execution_count": 5,
   "metadata": {},
   "outputs": [],
   "source": [
    "# Define the model\n",
    "class CustomNeuralNetwork(nn.Module):\n",
    "    def __init__(self):\n",
    "        super(CustomNeuralNetwork, self).__init__()\n",
    "        self.fc1 = nn.Linear(28 * 28, 128)\n",
    "        self.relu1 = nn.ReLU()  # Register ReLU as part of the model needed for torchviz library\n",
    "        self.fc2 = nn.Linear(128, 64)\n",
    "        self.relu2 = nn.ReLU()  \n",
    "        self.fc3 = nn.Linear(64, 10)\n",
    "\n",
    "    def forward(self, x):\n",
    "        x = x.view(-1, 28*28)  # Flatten input\n",
    "        x = F.relu(self.fc1(x))\n",
    "        x = F.relu(self.fc2(x))\n",
    "        x = self.fc3(x)\n",
    "        return F.log_softmax(x, dim=1)"
   ]
  },
  {
   "cell_type": "code",
   "execution_count": 6,
   "metadata": {},
   "outputs": [],
   "source": [
    "# Initialize model, loss, and optimizer\n",
    "model = CustomNeuralNetwork()\n",
    "optimizer = optim.Adam(model.parameters())\n",
    "criterion = nn.CrossEntropyLoss()"
   ]
  },
  {
   "cell_type": "code",
   "execution_count": null,
   "metadata": {},
   "outputs": [],
   "source": [
    "# Visualize the model\n",
    "from torchviz import make_dot\n",
    "dummy_input = torch.randn(1, 1, 28, 28)\n",
    "y = model(dummy_input)\n",
    "make_dot(y.mean(), params=dict(model.named_parameters()))"
   ]
  },
  {
   "cell_type": "code",
   "execution_count": 8,
   "metadata": {},
   "outputs": [],
   "source": [
    "# Variables to store accuracy and loss for graphing later\n",
    "train_acc = []\n",
    "unlearn_acc = []\n",
    "train_loss = []\n",
    "unlearn_loss = []\n",
    "epochs = list(range(1, 20))"
   ]
  },
  {
   "cell_type": "code",
   "execution_count": 9,
   "metadata": {},
   "outputs": [],
   "source": [
    "# Train model on the dataset\n",
    "def train(model, train_loader, criterion, optimizer, epoch):\n",
    "    model.train()\n",
    "    correct = 0\n",
    "    running_loss = 0\n",
    "    for batch_idx, (data, target) in enumerate(train_loader):\n",
    "        optimizer.zero_grad()\n",
    "        output = model(data)\n",
    "        loss = criterion(output, target)\n",
    "        running_loss += loss.item()\n",
    "        loss.backward()\n",
    "        optimizer.step()\n",
    "        \n",
    "        pred = output.argmax(dim=1, keepdim=True)\n",
    "        correct += pred.eq(target.view_as(pred)).sum().item()\n",
    "\n",
    "    accuracy = 100. * correct / len(train_loader.dataset)\n",
    "    avg_loss = running_loss / len(train_loader.dataset)\n",
    "    train_acc.append(accuracy)\n",
    "    train_loss.append(avg_loss)\n",
    "    print(f\"Train Epoch: {epoch} Accuracy: {accuracy:.2f}%, Loss: {avg_loss:.4f}\")"
   ]
  },
  {
   "cell_type": "code",
   "execution_count": 10,
   "metadata": {},
   "outputs": [],
   "source": [
    "# Test model performance\n",
    "def test(model, test_loader):\n",
    "    model.eval()  # Set the model to evaluation mode\n",
    "    test_loss = 0\n",
    "    correct = 0\n",
    "    y_pred = []  # To store all predictions\n",
    "    y_true = []  # To store all true labels        \n",
    "        \n",
    "    with torch.no_grad():  # Disable gradient calculation for inference\n",
    "        for data, target in test_loader:\n",
    "            output = model(data)\n",
    "            test_loss += criterion(output, target).item()  # Add batch loss\n",
    "            pred = output.argmax(dim=1, keepdim=True)  # Get the index of the max log-probability\n",
    "            y_pred.extend(pred.view(-1).tolist())  # Store predictions, flatten tensor and convert to list\n",
    "            y_true.extend(target.view(-1).tolist())  # Store true labels, flatten tensor and convert to list\n",
    "            correct += pred.eq(target.view_as(pred)).sum().item()  # Count correct predictions\n",
    "    \n",
    "    test_loss /= len(test_loader.dataset)  # Average loss per sample\n",
    "    accuracy = 100. * correct / len(test_loader.dataset)  # Compute accuracy\n",
    "    print(f'\\nTest set: Average loss: {test_loss:.4f}, Accuracy: {correct}/{len(test_loader.dataset)} ({accuracy:.2f}%)\\n')\n",
    "    \n",
    "    return accuracy, y_pred, y_true"
   ]
  },
  {
   "cell_type": "code",
   "execution_count": null,
   "metadata": {},
   "outputs": [],
   "source": [
    "# Train the model on the entire dataset first\n",
    "for epoch in range(1, 20): \n",
    "    train(model, train_loader, criterion, optimizer, epoch)"
   ]
  },
  {
   "cell_type": "code",
   "execution_count": null,
   "metadata": {},
   "outputs": [],
   "source": [
    "# Test the model before unlearning\n",
    "print(\"Testing pre-trained model:\")\n",
    "train_accuracy_before, y_pred_before, y_true_before = test(model, test_loader)"
   ]
  },
  {
   "cell_type": "code",
   "execution_count": 13,
   "metadata": {},
   "outputs": [],
   "source": [
    "# Now for unlearning class 6 and learning class 3\n",
    "# we freeze all weights except for the final layer\n",
    "for param in model.fc1.parameters():\n",
    "    param.requires_grad = False\n",
    "for param in model.fc2.parameters():\n",
    "    param.requires_grad = False"
   ]
  },
  {
   "cell_type": "code",
   "execution_count": null,
   "metadata": {},
   "outputs": [],
   "source": [
    "# Train with selective specific sample unlearning \n",
    "for epoch in range(1, 20):\n",
    "    selective_train_unlearning(model, train_loader, optimizer, criterion, epoch, unlearn_acc, unlearn_loss)"
   ]
  },
  {
   "cell_type": "code",
   "execution_count": null,
   "metadata": {},
   "outputs": [],
   "source": [
    "# Test the model after unlearning\n",
    "print(\"Testing model after unlearning:\")\n",
    "unlearn_accuracy_after, y_pred_after, y_true_after = test(model, test_loader)"
   ]
  },
  {
   "cell_type": "code",
   "execution_count": null,
   "metadata": {},
   "outputs": [],
   "source": [
    "# Accuracy vs Epochs\n",
    "plot_accuracy(train_acc, unlearn_acc, epochs)"
   ]
  },
  {
   "cell_type": "code",
   "execution_count": null,
   "metadata": {},
   "outputs": [],
   "source": [
    "# Loss vs Epochs\n",
    "plot_loss(train_loss, unlearn_loss, epochs)"
   ]
  },
  {
   "cell_type": "code",
   "execution_count": null,
   "metadata": {},
   "outputs": [],
   "source": [
    "# Collect predictions and plot confusion matrix BEFORE unlearning\n",
    "plot_confusion_matrix(y_true_before, y_pred_before, title=\"Confusion Matrix Before Unlearning\")"
   ]
  },
  {
   "cell_type": "code",
   "execution_count": null,
   "metadata": {},
   "outputs": [],
   "source": [
    "plot_confusion_matrix(y_true_after, y_pred_after, title=\"Confusion Matrix After Unlearning\")"
   ]
  },
  {
   "cell_type": "code",
   "execution_count": null,
   "metadata": {},
   "outputs": [],
   "source": [
    "# Assume `features` is the output of the model and `labels` are the true labels\n",
    "features = torch.cat([model(data).detach() for data, _ in test_loader], dim=0).cpu().numpy()\n",
    "labels = torch.cat([target for _, target in test_loader], dim=0).cpu().numpy()\n",
    "\n",
    "# Plot the PCA visualization\n",
    "plot_pca(features, labels, title=\"PCA Visualization After Unlearning\")"
   ]
  }
 ],
 "metadata": {
  "kernelspec": {
   "display_name": ".venv",
   "language": "python",
   "name": "python3"
  },
  "language_info": {
   "codemirror_mode": {
    "name": "ipython",
    "version": 3
   },
   "file_extension": ".py",
   "mimetype": "text/x-python",
   "name": "python",
   "nbconvert_exporter": "python",
   "pygments_lexer": "ipython3",
   "version": "3.11.4"
  }
 },
 "nbformat": 4,
 "nbformat_minor": 2
}
